{
 "cells": [
  {
   "cell_type": "markdown",
   "metadata": {},
   "source": [
    "# Preprocessing\n",
    "\n",
    "* Code by Caroline Juang, c.juang@columbia.edu\n",
    "* For Machine Learning for the Environmental Sciences, Columbia University\n",
    "* Professor: Pierre Gentine\n",
    "* November 2021 - December 2021"
   ]
  },
  {
   "cell_type": "markdown",
   "metadata": {
    "id": "ENyzpGSYlF4A"
   },
   "source": [
    "### Download Data"
   ]
  },
  {
   "cell_type": "markdown",
   "metadata": {},
   "source": [
    "Downloading data from box is tricky, here's the URL for the data download.\n",
    "\n",
    "Data is created by Park Williams, from various sources. [Download from Box](https://ucla.app.box.com/s/epgbcn89365loer1dbp2gz21lc75uut9/folder/136851087076)\n",
    "\n",
    "Fire data is created by Caroline Juang and Park Williams, from the Monitoring Trends in Burn Severity (MTBS) product and government agency databases. Use the `burnarea_combined.nc` file. [Download from Box](https://ucla.app.box.com/s/epgbcn89365loer1dbp2gz21lc75uut9/folder/136850119129)"
   ]
  },
  {
   "cell_type": "markdown",
   "metadata": {
    "tags": []
   },
   "source": [
    "### Workspace Setup\n",
    "\n",
    "**Import variables**\n",
    "\n",
    "Static\n",
    "* fractional forest area\n",
    "* fraction of urban area\n",
    "\n",
    "Climate\n",
    "* forest burned area\n",
    "* daily T_max\n",
    "* VPD\n",
    "* RH\n",
    "* precipitation\n",
    "\n",
    "**Initial investigations**\n",
    "* create mask for the western US land\n",
    "* Monthly and yearly fire return frequency"
   ]
  },
  {
   "cell_type": "code",
   "execution_count": 7,
   "metadata": {},
   "outputs": [],
   "source": [
    "# import\n",
    "import numpy as np\n",
    "import xarray as xr\n",
    "import pandas as pd\n",
    "import rioxarray as rio\n",
    "import matplotlib.pyplot as plt\n",
    "import pickle"
   ]
  },
  {
   "cell_type": "code",
   "execution_count": 8,
   "metadata": {},
   "outputs": [],
   "source": [
    "# importing data string\n",
    "directory = 'C:\\\\Users\\\\carol\\\\Documents\\\\Research Data 2020\\\\12km\\\\'"
   ]
  },
  {
   "cell_type": "markdown",
   "metadata": {
    "tags": []
   },
   "source": [
    "### Ecoregions\n",
    "* 10.1 Cold deserts\n",
    "* 7.1 Marine west coast forest\n",
    "* 11.1 Mediterranean California\n",
    "* 9.4 South Central Semiarid Prairies\n",
    "* 9.2 Temperate Prairies (not included)\n",
    "* 13.1 Upper Gila Mountains\n",
    "* 10.2 Warm Deserts\n",
    "* 9.3 West-Central Semiarid Prairies\n",
    "* 6.2 Western Cordillera\n",
    "* 12.1 Western Sierra Madre Piedmont"
   ]
  },
  {
   "cell_type": "code",
   "execution_count": 9,
   "metadata": {},
   "outputs": [
    {
     "name": "stdout",
     "output_type": "stream",
     "text": [
      "1: COLD DESERTS, 2: MARINE WEST COAST FOREST, 3: MEDITERRANEAN CALIFORNIA, 4: SOUTH CENTRAL SEMIARID PRAIRIES, 5: TEMPERATE PRAIRIES, 6: UPPER GILA MOUNTAINS, 7: WARM DESERTS, 8: WEST-CENTRAL SEMIARID PRAIRIES, 9: WESTERN CORDILLERA, 10: WESTERN SIERRA MADRE PIEDMONT\n"
     ]
    }
   ],
   "source": [
    "## open the ecoregion data\n",
    "ecoregion_data = xr.open_dataset(directory + 'landcover\\\\Ecoregions_EPA\\\\epa_level2.nc')\n",
    "# drop the bad ecoregion\n",
    "ecoregion_data = ecoregion_data.sel(province=[0,1,2,3,5,6,7,8,9], drop=True)\n",
    "\n",
    "ecoregion_legend = ecoregion_data.ecoregion\n",
    "print(ecoregion_legend.legend)\n",
    "epa_l2 = ecoregion_data.epa_level2\n",
    "ecoregion_data = None"
   ]
  },
  {
   "cell_type": "code",
   "execution_count": 10,
   "metadata": {},
   "outputs": [],
   "source": [
    "# setup forested area burned\n",
    "\n",
    "firsttime = \"1984-01-15\"\n",
    "finaltime = \"2019-12-15\"\n",
    "\n",
    "# forest fractional area (Ruefenacht et al., 2018)\n",
    "forest_type_data = xr.open_dataset(directory + 'landcover\\\\US_ForestType_Ruefenacht\\\\forest_type_frac.nc')\n",
    "\n",
    "# fire burned area (Williams and Juang)\n",
    "burnarea_data = xr.open_dataset(directory + 'wildfire\\\\burnarea_combined.nc', engine='netcdf4')\n",
    "time_str = burnarea_data.time\n",
    "X = burnarea_data.X\n",
    "Y = burnarea_data.Y\n",
    "burnarea_data = burnarea_data.rio.set_spatial_dims(x_dim='X', y_dim='Y', inplace=True)\n",
    "burn = burnarea_data.burnarea\n",
    "\n",
    "# get forest burned area (forest fraction x burned area)\n",
    "\n",
    "# storage\n",
    "forest = np.zeros((len(Y), len(X)), np.single)\n",
    "# add up the forest percentages for each forest type\n",
    "forest = forest_type_data.sum(dim='ftype').forest_type_frac\n",
    "burnarea = burn*forest.values # result\n",
    "\n",
    "# constrain time to 2019 (last year of fully-known data)\n",
    "burnarea = burnarea.loc[firsttime:finaltime]"
   ]
  },
  {
   "cell_type": "code",
   "execution_count": 11,
   "metadata": {},
   "outputs": [],
   "source": [
    "# import and setup other data\n",
    "\n",
    "# CLIMATE\n",
    "\n",
    "ea = xr.open_dataset(directory + 'climate\\\\primary\\\\ea.nc')\n",
    "es = xr.open_dataset(directory + 'climate\\\\primary\\\\es.nc')\n",
    "vpd = es.es.loc[firsttime:finaltime] - ea.ea.loc[firsttime:finaltime]\n",
    "\n",
    "rh = xr.open_dataset(directory + 'climate\\\\primary\\\\rh.nc')\n",
    "rh = rh.rh.loc[firsttime:finaltime]\n",
    "\n",
    "tmax = xr.open_dataset(directory + 'climate\\\\primary\\\\tmax.nc')\n",
    "tmax = tmax.tmax.loc[firsttime:finaltime]\n",
    "\n",
    "prec = xr.open_dataset(directory + 'climate\\\\primary\\\\prec.nc')\n",
    "prec = prec.prec.loc[firsttime:finaltime]\n",
    "\n",
    "wind = xr.open_dataset(directory + 'climate\\\\primary\\\\wind.nc')\n",
    "wind = wind.wind.loc[firsttime:finaltime]\n",
    "\n",
    "# LAND COVER\n",
    "\n",
    "elevstd = xr.open_dataset(directory + 'topography\\\\elevstd.nc')\n",
    "elevstd = elevstd.elevstd\n",
    "\n",
    "wui_distance = xr.open_dataset(directory + 'population\\\\silvis\\\\wui_distance.nc')\n",
    "wui_distance = wui_distance.wui_distance"
   ]
  },
  {
   "cell_type": "code",
   "execution_count": 17,
   "metadata": {},
   "outputs": [],
   "source": [
    "time = burnarea.time\n",
    "province = epa_l2.province\n",
    "\n",
    "for thisregion in province:\n",
    "    # vpd\n",
    "    tmpavg = (vpd*epa_l2[thisregion]).sum(dim=['Y','X','time']) / (epa_l2[thisregion].sum()*len(time))\n",
    "    vpd_z = vpd*epa_l2[thisregion] - tmpavg\n",
    "    \n",
    "    # rh\n",
    "    tmpavg = (rh*epa_l2[thisregion]).sum(dim=['Y','X','time']) / (epa_l2[thisregion].sum()*len(time))\n",
    "    rh_z = rh*epa_l2[thisregion] - tmpavg\n",
    "    \n",
    "    # tmax\n",
    "    tmpavg = (tmax*epa_l2[thisregion]).sum(dim=['Y','X','time']) / (epa_l2[thisregion].sum()*len(time))\n",
    "    tmax_z = tmax*epa_l2[thisregion] - tmpavg\n",
    "    \n",
    "    # prec\n",
    "    tmpavg = (prec*epa_l2[thisregion]).sum(dim=['Y','X','time']) / (epa_l2[thisregion].sum()*len(time))\n",
    "    prec_z = tmax*epa_l2[thisregion] - tmpavg"
   ]
  },
  {
   "cell_type": "code",
   "execution_count": 18,
   "metadata": {},
   "outputs": [],
   "source": [
    "# convert wui distance into variable for all years\n",
    "\n",
    "# get time and set up\n",
    "firstyear = pd.DatetimeIndex(burnarea.time.values).year.min()\n",
    "finalyear = pd.DatetimeIndex(burnarea.time.values).year.max()\n",
    "years = np.arange(firstyear, finalyear+1, 1)\n",
    "\n",
    "wui_distance_new = wui_distance.interp(year=years) # interpolate to fill in years"
   ]
  },
  {
   "cell_type": "markdown",
   "metadata": {},
   "source": [
    "# Initial investigations\n",
    "\n",
    "Some interesting ways to look at fire return rate"
   ]
  },
  {
   "cell_type": "code",
   "execution_count": 19,
   "metadata": {},
   "outputs": [
    {
     "data": {
      "text/plain": [
       "<matplotlib.colorbar.Colorbar at 0x2018047fbb0>"
      ]
     },
     "execution_count": 19,
     "metadata": {},
     "output_type": "execute_result"
    },
    {
     "data": {
      "image/png": "[encoded data removed]",
      "text/plain": [
       "<Figure size 432x288 with 2 Axes>"
      ]
     },
     "metadata": {
      "needs_background": "light"
     },
     "output_type": "display_data"
    }
   ],
   "source": [
    "# storage\n",
    "time = burnarea.time\n",
    "X = burnarea_data.X\n",
    "Y = burnarea_data.Y\n",
    "\n",
    "# get the NaN values in a mask\n",
    "maskUS = ~np.isnan(burnarea.isel(time=0))\n",
    "fig, ax = plt.subplots()\n",
    "this = ax.imshow(maskUS)\n",
    "fig.colorbar(this)"
   ]
  },
  {
   "cell_type": "code",
   "execution_count": 20,
   "metadata": {},
   "outputs": [
    {
     "data": {
      "text/plain": [
       "<matplotlib.colorbar.Colorbar at 0x20180585b50>"
      ]
     },
     "execution_count": 20,
     "metadata": {},
     "output_type": "execute_result"
    },
    {
     "data": {
      "image/png": "[encoded data removed]",
      "text/plain": [
       "<Figure size 432x288 with 2 Axes>"
      ]
     },
     "metadata": {
      "needs_background": "light"
     },
     "output_type": "display_data"
    }
   ],
   "source": [
    "burnyes_month = (burnarea>0).astype(int)\n",
    "\n",
    "fig, ax = plt.subplots()\n",
    "this = ax.imshow(burnyes_month.sel(time=\"2018-09-15\"))\n",
    "fig.colorbar(this)"
   ]
  },
  {
   "cell_type": "code",
   "execution_count": 21,
   "metadata": {},
   "outputs": [
    {
     "data": {
      "text/html": [
       "<div><svg style=\"position: absolute; width: 0; height: 0; overflow: hidden\">\n",
       "<defs>\n",
       "<symbol id=\"icon-database\" viewBox=\"0 0 32 32\">\n",
       "<path d=\"M16 0c-8.837 0-16 2.239-16 5v4c0 2.761 7.163 5 16 5s16-2.239 16-5v-4c0-2.761-7.163-5-16-5z\"></path>\n",
       "<path d=\"M16 17c-8.837 0-16-2.239-16-5v6c0 2.761 7.163 5 16 5s16-2.239 16-5v-6c0 2.761-7.163 5-16 5z\"></path>\n",
       "<path d=\"M16 26c-8.837 0-16-2.239-16-5v6c0 2.761 7.163 5 16 5s16-2.239 16-5v-6c0 2.761-7.163 5-16 5z\"></path>\n",
       "</symbol>\n",
       "<symbol id=\"icon-file-text2\" viewBox=\"0 0 32 32\">\n",
       "<path d=\"M28.681 7.159c-0.694-0.947-1.662-2.053-2.724-3.116s-2.169-2.030-3.116-2.724c-1.612-1.182-2.393-1.319-2.841-1.319h-15.5c-1.378 0-2.5 1.121-2.5 2.5v27c0 1.378 1.122 2.5 2.5 2.5h23c1.378 0 2.5-1.122 2.5-2.5v-19.5c0-0.448-0.137-1.23-1.319-2.841zM24.543 5.457c0.959 0.959 1.712 1.825 2.268 2.543h-4.811v-4.811c0.718 0.556 1.584 1.309 2.543 2.268zM28 29.5c0 0.271-0.229 0.5-0.5 0.5h-23c-0.271 0-0.5-0.229-0.5-0.5v-27c0-0.271 0.229-0.5 0.5-0.5 0 0 15.499-0 15.5 0v7c0 0.552 0.448 1 1 1h7v19.5z\"></path>\n",
       "<path d=\"M23 26h-14c-0.552 0-1-0.448-1-1s0.448-1 1-1h14c0.552 0 1 0.448 1 1s-0.448 1-1 1z\"></path>\n",
       "<path d=\"M23 22h-14c-0.552 0-1-0.448-1-1s0.448-1 1-1h14c0.552 0 1 0.448 1 1s-0.448 1-1 1z\"></path>\n",
       "<path d=\"M23 18h-14c-0.552 0-1-0.448-1-1s0.448-1 1-1h14c0.552 0 1 0.448 1 1s-0.448 1-1 1z\"></path>\n",
       "</symbol>\n",
       "</defs>\n",
       "</svg>\n",
       "<style>/* CSS stylesheet for displaying xarray objects in jupyterlab.\n",
       " *\n",
       " */\n",
       "\n",
       ":root {\n",
       "  --xr-font-color0: var(--jp-content-font-color0, rgba(0, 0, 0, 1));\n",
       "  --xr-font-color2: var(--jp-content-font-color2, rgba(0, 0, 0, 0.54));\n",
       "  --xr-font-color3: var(--jp-content-font-color3, rgba(0, 0, 0, 0.38));\n",
       "  --xr-border-color: var(--jp-border-color2, #e0e0e0);\n",
       "  --xr-disabled-color: var(--jp-layout-color3, #bdbdbd);\n",
       "  --xr-background-color: var(--jp-layout-color0, white);\n",
       "  --xr-background-color-row-even: var(--jp-layout-color1, white);\n",
       "  --xr-background-color-row-odd: var(--jp-layout-color2, #eeeeee);\n",
       "}\n",
       "\n",
       "html[theme=dark],\n",
       "body.vscode-dark {\n",
       "  --xr-font-color0: rgba(255, 255, 255, 1);\n",
       "  --xr-font-color2: rgba(255, 255, 255, 0.54);\n",
       "  --xr-font-color3: rgba(255, 255, 255, 0.38);\n",
       "  --xr-border-color: #1F1F1F;\n",
       "  --xr-disabled-color: #515151;\n",
       "  --xr-background-color: #111111;\n",
       "  --xr-background-color-row-even: #111111;\n",
       "  --xr-background-color-row-odd: #313131;\n",
       "}\n",
       "\n",
       ".xr-wrap {\n",
       "  display: block;\n",
       "  min-width: 300px;\n",
       "  max-width: 700px;\n",
       "}\n",
       "\n",
       ".xr-text-repr-fallback {\n",
       "  /* fallback to plain text repr when CSS is not injected (untrusted notebook) */\n",
       "  display: none;\n",
       "}\n",
       "\n",
       ".xr-header {\n",
       "  padding-top: 6px;\n",
       "  padding-bottom: 6px;\n",
       "  margin-bottom: 4px;\n",
       "  border-bottom: solid 1px var(--xr-border-color);\n",
       "}\n",
       "\n",
       ".xr-header > div,\n",
       ".xr-header > ul {\n",
       "  display: inline;\n",
       "  margin-top: 0;\n",
       "  margin-bottom: 0;\n",
       "}\n",
       "\n",
       ".xr-obj-type,\n",
       ".xr-array-name {\n",
       "  margin-left: 2px;\n",
       "  margin-right: 10px;\n",
       "}\n",
       "\n",
       ".xr-obj-type {\n",
       "  color: var(--xr-font-color2);\n",
       "}\n",
       "\n",
       ".xr-sections {\n",
       "  padding-left: 0 !important;\n",
       "  display: grid;\n",
       "  grid-template-columns: 150px auto auto 1fr 20px 20px;\n",
       "}\n",
       "\n",
       ".xr-section-item {\n",
       "  display: contents;\n",
       "}\n",
       "\n",
       ".xr-section-item input {\n",
       "  display: none;\n",
       "}\n",
       "\n",
       ".xr-section-item input + label {\n",
       "  color: var(--xr-disabled-color);\n",
       "}\n",
       "\n",
       ".xr-section-item input:enabled + label {\n",
       "  cursor: pointer;\n",
       "  color: var(--xr-font-color2);\n",
       "}\n",
       "\n",
       ".xr-section-item input:enabled + label:hover {\n",
       "  color: var(--xr-font-color0);\n",
       "}\n",
       "\n",
       ".xr-section-summary {\n",
       "  grid-column: 1;\n",
       "  color: var(--xr-font-color2);\n",
       "  font-weight: 500;\n",
       "}\n",
       "\n",
       ".xr-section-summary > span {\n",
       "  display: inline-block;\n",
       "  padding-left: 0.5em;\n",
       "}\n",
       "\n",
       ".xr-section-summary-in:disabled + label {\n",
       "  color: var(--xr-font-color2);\n",
       "}\n",
       "\n",
       ".xr-section-summary-in + label:before {\n",
       "  display: inline-block;\n",
       "  content: '►';\n",
       "  font-size: 11px;\n",
       "  width: 15px;\n",
       "  text-align: center;\n",
       "}\n",
       "\n",
       ".xr-section-summary-in:disabled + label:before {\n",
       "  color: var(--xr-disabled-color);\n",
       "}\n",
       "\n",
       ".xr-section-summary-in:checked + label:before {\n",
       "  content: '▼';\n",
       "}\n",
       "\n",
       ".xr-section-summary-in:checked + label > span {\n",
       "  display: none;\n",
       "}\n",
       "\n",
       ".xr-section-summary,\n",
       ".xr-section-inline-details {\n",
       "  padding-top: 4px;\n",
       "  padding-bottom: 4px;\n",
       "}\n",
       "\n",
       ".xr-section-inline-details {\n",
       "  grid-column: 2 / -1;\n",
       "}\n",
       "\n",
       ".xr-section-details {\n",
       "  display: none;\n",
       "  grid-column: 1 / -1;\n",
       "  margin-bottom: 5px;\n",
       "}\n",
       "\n",
       ".xr-section-summary-in:checked ~ .xr-section-details {\n",
       "  display: contents;\n",
       "}\n",
       "\n",
       ".xr-array-wrap {\n",
       "  grid-column: 1 / -1;\n",
       "  display: grid;\n",
       "  grid-template-columns: 20px auto;\n",
       "}\n",
       "\n",
       ".xr-array-wrap > label {\n",
       "  grid-column: 1;\n",
       "  vertical-align: top;\n",
       "}\n",
       "\n",
       ".xr-preview {\n",
       "  color: var(--xr-font-color3);\n",
       "}\n",
       "\n",
       ".xr-array-preview,\n",
       ".xr-array-data {\n",
       "  padding: 0 5px !important;\n",
       "  grid-column: 2;\n",
       "}\n",
       "\n",
       ".xr-array-data,\n",
       ".xr-array-in:checked ~ .xr-array-preview {\n",
       "  display: none;\n",
       "}\n",
       "\n",
       ".xr-array-in:checked ~ .xr-array-data,\n",
       ".xr-array-preview {\n",
       "  display: inline-block;\n",
       "}\n",
       "\n",
       ".xr-dim-list {\n",
       "  display: inline-block !important;\n",
       "  list-style: none;\n",
       "  padding: 0 !important;\n",
       "  margin: 0;\n",
       "}\n",
       "\n",
       ".xr-dim-list li {\n",
       "  display: inline-block;\n",
       "  padding: 0;\n",
       "  margin: 0;\n",
       "}\n",
       "\n",
       ".xr-dim-list:before {\n",
       "  content: '(';\n",
       "}\n",
       "\n",
       ".xr-dim-list:after {\n",
       "  content: ')';\n",
       "}\n",
       "\n",
       ".xr-dim-list li:not(:last-child):after {\n",
       "  content: ',';\n",
       "  padding-right: 5px;\n",
       "}\n",
       "\n",
       ".xr-has-index {\n",
       "  font-weight: bold;\n",
       "}\n",
       "\n",
       ".xr-var-list,\n",
       ".xr-var-item {\n",
       "  display: contents;\n",
       "}\n",
       "\n",
       ".xr-var-item > div,\n",
       ".xr-var-item label,\n",
       ".xr-var-item > .xr-var-name span {\n",
       "  background-color: var(--xr-background-color-row-even);\n",
       "  margin-bottom: 0;\n",
       "}\n",
       "\n",
       ".xr-var-item > .xr-var-name:hover span {\n",
       "  padding-right: 5px;\n",
       "}\n",
       "\n",
       ".xr-var-list > li:nth-child(odd) > div,\n",
       ".xr-var-list > li:nth-child(odd) > label,\n",
       ".xr-var-list > li:nth-child(odd) > .xr-var-name span {\n",
       "  background-color: var(--xr-background-color-row-odd);\n",
       "}\n",
       "\n",
       ".xr-var-name {\n",
       "  grid-column: 1;\n",
       "}\n",
       "\n",
       ".xr-var-dims {\n",
       "  grid-column: 2;\n",
       "}\n",
       "\n",
       ".xr-var-dtype {\n",
       "  grid-column: 3;\n",
       "  text-align: right;\n",
       "  color: var(--xr-font-color2);\n",
       "}\n",
       "\n",
       ".xr-var-preview {\n",
       "  grid-column: 4;\n",
       "}\n",
       "\n",
       ".xr-var-name,\n",
       ".xr-var-dims,\n",
       ".xr-var-dtype,\n",
       ".xr-preview,\n",
       ".xr-attrs dt {\n",
       "  white-space: nowrap;\n",
       "  overflow: hidden;\n",
       "  text-overflow: ellipsis;\n",
       "  padding-right: 10px;\n",
       "}\n",
       "\n",
       ".xr-var-name:hover,\n",
       ".xr-var-dims:hover,\n",
       ".xr-var-dtype:hover,\n",
       ".xr-attrs dt:hover {\n",
       "  overflow: visible;\n",
       "  width: auto;\n",
       "  z-index: 1;\n",
       "}\n",
       "\n",
       ".xr-var-attrs,\n",
       ".xr-var-data {\n",
       "  display: none;\n",
       "  background-color: var(--xr-background-color) !important;\n",
       "  padding-bottom: 5px !important;\n",
       "}\n",
       "\n",
       ".xr-var-attrs-in:checked ~ .xr-var-attrs,\n",
       ".xr-var-data-in:checked ~ .xr-var-data {\n",
       "  display: block;\n",
       "}\n",
       "\n",
       ".xr-var-data > table {\n",
       "  float: right;\n",
       "}\n",
       "\n",
       ".xr-var-name span,\n",
       ".xr-var-data,\n",
       ".xr-attrs {\n",
       "  padding-left: 25px !important;\n",
       "}\n",
       "\n",
       ".xr-attrs,\n",
       ".xr-var-attrs,\n",
       ".xr-var-data {\n",
       "  grid-column: 1 / -1;\n",
       "}\n",
       "\n",
       "dl.xr-attrs {\n",
       "  padding: 0;\n",
       "  margin: 0;\n",
       "  display: grid;\n",
       "  grid-template-columns: 125px auto;\n",
       "}\n",
       "\n",
       ".xr-attrs dt,\n",
       ".xr-attrs dd {\n",
       "  padding: 0;\n",
       "  margin: 0;\n",
       "  float: left;\n",
       "  padding-right: 10px;\n",
       "  width: auto;\n",
       "}\n",
       "\n",
       ".xr-attrs dt {\n",
       "  font-weight: normal;\n",
       "  grid-column: 1;\n",
       "}\n",
       "\n",
       ".xr-attrs dt:hover span {\n",
       "  display: inline-block;\n",
       "  background: var(--xr-background-color);\n",
       "  padding-right: 10px;\n",
       "}\n",
       "\n",
       ".xr-attrs dd {\n",
       "  grid-column: 2;\n",
       "  white-space: pre-wrap;\n",
       "  word-break: break-all;\n",
       "}\n",
       "\n",
       ".xr-icon-database,\n",
       ".xr-icon-file-text2 {\n",
       "  display: inline-block;\n",
       "  vertical-align: middle;\n",
       "  width: 1em;\n",
       "  height: 1.5em !important;\n",
       "  stroke-width: 0;\n",
       "  stroke: currentColor;\n",
       "  fill: currentColor;\n",
       "}\n",
       "</style><pre class='xr-text-repr-fallback'>&lt;xarray.DataArray &#x27;burnarea&#x27; ()&gt;\n",
       "array(0)</pre><div class='xr-wrap' hidden><div class='xr-header'><div class='xr-obj-type'>xarray.DataArray</div><div class='xr-array-name'>'burnarea'</div></div><ul class='xr-sections'><li class='xr-section-item'><div class='xr-array-wrap'><input id='section-56816f97-ddab-414a-9bea-ee86a1cfde82' class='xr-array-in' type='checkbox' checked><label for='section-56816f97-ddab-414a-9bea-ee86a1cfde82' title='Show/hide data repr'><svg class='icon xr-icon-database'><use xlink:href='#icon-database'></use></svg></label><div class='xr-array-preview xr-preview'><span>0</span></div><div class='xr-array-data'><pre>array(0)</pre></div></div></li><li class='xr-section-item'><input id='section-f3c19619-3412-4f76-8f80-90da0f5e6f10' class='xr-section-summary-in' type='checkbox' disabled ><label for='section-f3c19619-3412-4f76-8f80-90da0f5e6f10' class='xr-section-summary'  title='Expand/collapse section'>Coordinates: <span>(0)</span></label><div class='xr-section-inline-details'></div><div class='xr-section-details'><ul class='xr-var-list'></ul></div></li><li class='xr-section-item'><input id='section-5540b4c0-15aa-43f5-979a-d36fff9901e1' class='xr-section-summary-in' type='checkbox' disabled ><label for='section-5540b4c0-15aa-43f5-979a-d36fff9901e1' class='xr-section-summary'  title='Expand/collapse section'>Attributes: <span>(0)</span></label><div class='xr-section-inline-details'></div><div class='xr-section-details'><dl class='xr-attrs'></dl></div></li></ul></div></div>"
      ],
      "text/plain": [
       "<xarray.DataArray 'burnarea' ()>\n",
       "array(0)"
      ]
     },
     "execution_count": 21,
     "metadata": {},
     "output_type": "execute_result"
    }
   ],
   "source": [
    "burnyes_month.where((burnyes_month!=1) & (burnyes_month!=0)).count()"
   ]
  },
  {
   "cell_type": "code",
   "execution_count": 22,
   "metadata": {},
   "outputs": [],
   "source": [
    "# burnno_yr captures conditionally whether a gridcell burned. \n",
    "# 1 = gricell did not burn\n",
    "# 0 = gricell burned\n",
    "burnno_yr = burnarea.resample(indexer={'time':'Y'}).sum(skipna=True)\n",
    "burnno_yr = (burnno_yr==0).astype(int)\n",
    "\n",
    "# extract dimension info\n",
    "time = burnno_yr.time\n",
    "X = burnno_yr.X\n",
    "Y = burnno_yr.Y\n",
    "\n",
    "# initialize storage\n",
    "return_years = np.zeros((len(time), len(Y), len(X))) # empty storage for years since the last fire\n",
    "\n",
    "# iterate\n",
    "index = 1\n",
    "for year in burnno_yr.time[index:]:\n",
    "    tmp_thisyr = burnno_yr.isel(time=index) # 2d DataArray\n",
    "    tmp_prevyr = return_years[index-1] # last year's burn info\n",
    "    tmp_return = tmp_thisyr + tmp_prevyr # add new year\n",
    "    tmp_return = tmp_return.where(tmp_thisyr>0, other=0) # if a fire burned, reset the counter with 0\n",
    "    return_years[index] = tmp_return # store this memory\n",
    "    index+=1\n",
    "\n",
    "# transform return_years into a xarray DataArray\n",
    "return_years = xr.DataArray(data=return_years,\n",
    "                            dims=['time','Y','X'],\n",
    "                            coords=dict(X=X, Y=Y, time=time),\n",
    "                            attrs=dict(\n",
    "                                description='Time since gridcell last burned',\n",
    "                                units='years'\n",
    "                            ))\n",
    "return_years = return_years.where(maskUS) # put NaN outside western US border"
   ]
  },
  {
   "cell_type": "code",
   "execution_count": 23,
   "metadata": {},
   "outputs": [
    {
     "data": {
      "text/plain": [
       "Text(0, 0.5, 'Number of gridcells')"
      ]
     },
     "execution_count": 23,
     "metadata": {},
     "output_type": "execute_result"
    },
    {
     "data": {
      "image/png": "[encoded data removed]",
      "text/plain": [
       "<Figure size 432x288 with 1 Axes>"
      ]
     },
     "metadata": {
      "needs_background": "light"
     },
     "output_type": "display_data"
    }
   ],
   "source": [
    "fig, ax = plt.subplots()\n",
    "ax.hist(np.ndarray.flatten(return_years.values))\n",
    "ax.set_title('Histogram of years since gridcell last burned, western US')\n",
    "ax.set_xlabel('Number of years since last fire')\n",
    "ax.set_ylabel('Number of gridcells')"
   ]
  },
  {
   "cell_type": "code",
   "execution_count": 24,
   "metadata": {},
   "outputs": [],
   "source": [
    "# burnno_mo captures conditionally how many months since the last time the gridcell burned.\n",
    "# 1 = gricell did not burn\n",
    "# 0 = gricell burned\n",
    "burnno_mo = (burnarea==0).astype(int)\n",
    "\n",
    "# extract dimension info\n",
    "time = burnno_mo.time\n",
    "X = burnno_mo.X\n",
    "Y = burnno_mo.Y\n",
    "\n",
    "# initialize storage\n",
    "return_months = np.zeros((len(time), len(Y), len(X))) # empty storage for years since the last fire\n",
    "\n",
    "# iterate\n",
    "index = 1\n",
    "for year in burnno_mo.time[index:]:\n",
    "    tmp_thismo = burnno_mo.isel(time=index) # 2d DataArray\n",
    "    tmp_prevmo = return_months[index-1] # last year's burn info\n",
    "    tmp_return = tmp_thismo + tmp_prevmo # add new year\n",
    "    tmp_return = tmp_return.where(tmp_thisyr>0, other=0) # if a fire burned, reset the counter with 0\n",
    "    return_months[index] = tmp_return # store this memory\n",
    "    index+=1\n",
    "\n",
    "# transform into a xarray DataArray\n",
    "return_months = xr.DataArray(data=return_months,\n",
    "                            dims=['time','Y','X'],\n",
    "                            coords=dict(X=X, Y=Y, time=time),\n",
    "                            attrs=dict(\n",
    "                                description='Time since gridcell last burned',\n",
    "                                units='months'\n",
    "                            ))\n",
    "return_months = return_months.where(maskUS) # put NaN outside western US border"
   ]
  },
  {
   "cell_type": "code",
   "execution_count": 25,
   "metadata": {},
   "outputs": [
    {
     "data": {
      "text/plain": [
       "Text(0, 0.5, 'Number of gridcells')"
      ]
     },
     "execution_count": 25,
     "metadata": {},
     "output_type": "execute_result"
    },
    {
     "data": {
      "image/png": "[encoded data removed]",
      "text/plain": [
       "<Figure size 432x288 with 1 Axes>"
      ]
     },
     "metadata": {
      "needs_background": "light"
     },
     "output_type": "display_data"
    }
   ],
   "source": [
    "fig, ax = plt.subplots()\n",
    "ax.hist(np.ndarray.flatten(return_months.values))\n",
    "ax.set_title('Histogram of months since gridcell\\n last burned, western US')\n",
    "ax.set_xlabel('Number of months since last fire')\n",
    "ax.set_ylabel('Number of gridcells')"
   ]
  },
  {
   "cell_type": "code",
   "execution_count": 26,
   "metadata": {},
   "outputs": [],
   "source": [
    "# export objects with pickle\n",
    "# define file\n",
    "filename = 'processed_fires.pickle'\n",
    "outfile = open(filename, 'wb')\n",
    "\n",
    "# add data\n",
    "pickle.dump(epa_l2, outfile) # static\n",
    "pickle.dump(maskUS, outfile)\n",
    "pickle.dump(forest, outfile)\n",
    "pickle.dump(elevstd, outfile)\n",
    "\n",
    "pickle.dump(vpd, outfile) # climate\n",
    "pickle.dump(rh, outfile)\n",
    "pickle.dump(tmax, outfile)\n",
    "pickle.dump(prec, outfile)\n",
    "pickle.dump(wind, outfile)\n",
    "pickle.dump(vpd_z, outfile)\n",
    "pickle.dump(rh_z, outfile)\n",
    "pickle.dump(tmax_z, outfile)\n",
    "pickle.dump(prec_z, outfile)\n",
    "\n",
    "pickle.dump(burnarea, outfile) # y variable to predict\n",
    "pickle.dump(wui_distance_new, outfile) # land change\n",
    "pickle.dump(return_years, outfile)\n",
    "pickle.dump(return_months, outfile)\n",
    "\n",
    "outfile.close()"
   ]
  },
  {
   "cell_type": "code",
   "execution_count": null,
   "metadata": {},
   "outputs": [],
   "source": []
  },
  {
   "cell_type": "code",
   "execution_count": 62,
   "metadata": {},
   "outputs": [
    {
     "ename": "ImportError",
     "evalue": "cannot import name 'RandomForestClassifiers' from 'sklearn.ensemble' (C:\\ProgramData\\Anaconda3\\envs\\FireML\\lib\\site-packages\\sklearn\\ensemble\\__init__.py)",
     "output_type": "error",
     "traceback": [
      "\u001b[1;31m--------------------------------------------\u001b[0m",
      "\u001b[1;31mImportError\u001b[0mTraceback (most recent call last)",
      "\u001b[1;32m~\\AppData\\Local\\Temp/ipykernel_27564/932358647.py\u001b[0m in \u001b[0;36m<module>\u001b[1;34m\u001b[0m\n\u001b[0;32m      5\u001b[0m \u001b[1;32mfrom\u001b[0m \u001b[0msklearn\u001b[0m\u001b[1;33m.\u001b[0m\u001b[0mmodel_selection\u001b[0m \u001b[1;32mimport\u001b[0m \u001b[0mcross_val_score\u001b[0m\u001b[1;33m\u001b[0m\u001b[1;33m\u001b[0m\u001b[0m\n\u001b[0;32m      6\u001b[0m \u001b[1;32mfrom\u001b[0m \u001b[0msklearn\u001b[0m\u001b[1;33m.\u001b[0m\u001b[0mmodel_selection\u001b[0m \u001b[1;32mimport\u001b[0m \u001b[0mRepeatedStratifiedKFold\u001b[0m\u001b[1;33m\u001b[0m\u001b[1;33m\u001b[0m\u001b[0m\n\u001b[1;32m----> 7\u001b[1;33m \u001b[1;32mfrom\u001b[0m \u001b[0msklearn\u001b[0m\u001b[1;33m.\u001b[0m\u001b[0mensemble\u001b[0m \u001b[1;32mimport\u001b[0m \u001b[0mRandomForestClassifiers\u001b[0m\u001b[1;33m\u001b[0m\u001b[1;33m\u001b[0m\u001b[0m\n\u001b[0m\u001b[0;32m      8\u001b[0m \u001b[1;33m\u001b[0m\u001b[0m\n\u001b[0;32m      9\u001b[0m \u001b[1;31m# using code from https://machinelearningmastery.com/random-forest-ensemble-in-python/\u001b[0m\u001b[1;33m\u001b[0m\u001b[1;33m\u001b[0m\u001b[1;33m\u001b[0m\u001b[0m\n",
      "\u001b[1;31mImportError\u001b[0m: cannot import name 'RandomForestClassifiers' from 'sklearn.ensemble' (C:\\ProgramData\\Anaconda3\\envs\\FireML\\lib\\site-packages\\sklearn\\ensemble\\__init__.py)"
     ]
    }
   ],
   "source": [
    "# import\n",
    "from numpy import mean\n",
    "from numpy import std\n",
    "from sklearn.datasets import make_classification\n",
    "from sklearn.model_selection import cross_val_score\n",
    "from sklearn.model_selection import RepeatedStratifiedKFold\n",
    "from sklearn.ensemble import RandomForestClassifiers\n",
    "\n",
    "# using code from https://machinelearningmastery.com/random-forest-ensemble-in-python/"
   ]
  },
  {
   "cell_type": "code",
   "execution_count": null,
   "metadata": {},
   "outputs": [],
   "source": [
    "# test classification dataset\n",
    "from sklearn.datasets import make_classification\n",
    "# define dataset\n",
    "X, y = make_classification(n_samples=1000, n_features=20, n_informative=15, n_redundant=5, random_state=3)\n",
    "# summarize the dataset\n",
    "print(X.shape, y.shape)"
   ]
  },
  {
   "cell_type": "markdown",
   "metadata": {
    "id": "1igsH1jklF4F"
   },
   "source": [
    "### Import Dependencies"
   ]
  },
  {
   "cell_type": "code",
   "execution_count": 2,
   "metadata": {
    "execution": {
     "iopub.execute_input": "2021-06-13T03:55:13.679756Z",
     "iopub.status.busy": "2021-06-13T03:55:13.679420Z",
     "iopub.status.idle": "2021-06-13T03:55:14.966180Z",
     "shell.execute_reply": "2021-06-13T03:55:14.965344Z",
     "shell.execute_reply.started": "2021-06-13T03:55:13.679721Z"
    },
    "id": "B1NCInuSSnAA"
   },
   "outputs": [],
   "source": [
    "import numpy as np\n",
    "import torch\n",
    "import torch.nn as nn\n",
    "from torch.optim import Adam\n",
    "from Seq2Seq import Seq2Seq\n",
    "from torch.utils.data import DataLoader\n",
    "\n",
    "import io\n",
    "import imageio\n",
    "from ipywidgets import widgets, HBox\n",
    "import matplotlib.pyplot as plt\n",
    "from ConvLSTM import ConvLSTM\n",
    "from tqdm.notebook import tqdm\n",
    "entire_sequence_version=True\n",
    "\n",
    "\n",
    "\n",
    "# Use GPU if available\n",
    "device = torch.device('cuda' if torch.cuda.is_available() else 'cpu')"
   ]
  },
  {
   "cell_type": "markdown",
   "metadata": {
    "id": "qQTkEVgclF4I"
   },
   "source": [
    "### Import Data and Create Dataloaders"
   ]
  },
  {
   "cell_type": "code",
   "execution_count": 4,
   "metadata": {
    "execution": {
     "iopub.execute_input": "2021-06-13T03:55:19.752382Z",
     "iopub.status.busy": "2021-06-13T03:55:19.752056Z",
     "iopub.status.idle": "2021-06-13T03:55:20.348613Z",
     "shell.execute_reply": "2021-06-13T03:55:20.347716Z",
     "shell.execute_reply.started": "2021-06-13T03:55:19.752353Z"
    },
    "id": "Fr0LJzaiSptt"
   },
   "outputs": [],
   "source": [
    "# Load Data as Numpy Array\n",
    "MovingMNIST = np.load('mnist_test_seq.npy').transpose(1, 0, 2, 3)\n",
    "\n",
    "# Shuffle Data\n",
    "np.random.shuffle(MovingMNIST)\n",
    "\n",
    "# Train, Test, Validation splits\n",
    "train_data = MovingMNIST[:8000]         \n",
    "val_data = MovingMNIST[8000:9000]       \n",
    "test_data = MovingMNIST[9000:10000]     \n",
    "\n",
    "def collate3d(batch):\n",
    "\n",
    "    # Add channel dim, scale pixels between 0 and 1, send to GPU\n",
    "    batch = torch.tensor(batch).unsqueeze(1)     \n",
    "    batch = batch / 255.0                        \n",
    "    batch = batch.to(device)                     \n",
    "\n",
    "    # the output is the input sequence shift right by 1, both have length 19\n",
    "    rand = np.random.randint(10,20)\n",
    "    seq_len=batch.shape[2]\n",
    "    return batch[:,:,0:seq_len-1], batch[:,:,1:seq_len]      \n",
    "\n",
    "def collate2d(batch):\n",
    "\n",
    "    # Add channel dim, scale pixels between 0 and 1, send to GPU\n",
    "    batch = torch.tensor(batch).unsqueeze(1)     \n",
    "    batch = batch / 255.0                        \n",
    "    batch = batch.to(device)                     \n",
    "\n",
    "    # Randomly pick 10 frames as input, 11th frame is target\n",
    "    rand = np.random.randint(10,20)                     \n",
    "    return batch[:,:,rand-10:rand], batch[:,:,rand]\n",
    "\n",
    "if entire_sequence_version:\n",
    "    # Training Data Loader\n",
    "    train_loader = DataLoader(train_data, shuffle=True, \n",
    "                            batch_size=16, collate_fn=collate3d)\n",
    "\n",
    "    # Validation Data Loader\n",
    "    val_loader = DataLoader(val_data, shuffle=True, \n",
    "                            batch_size=16, collate_fn=collate3d)\n",
    "else:\n",
    "    # Training Data Loader\n",
    "    train_loader = DataLoader(train_data, shuffle=True, \n",
    "                            batch_size=16, collate_fn=collate2d)\n",
    "\n",
    "    # Validation Data Loader\n",
    "    val_loader = DataLoader(val_data, shuffle=True, \n",
    "                            batch_size=16, collate_fn=collate2d)"
   ]
  },
  {
   "cell_type": "markdown",
   "metadata": {
    "id": "r83DdoFNlF4J"
   },
   "source": [
    "### Visualize Data"
   ]
  },
  {
   "cell_type": "code",
   "execution_count": 5,
   "metadata": {
    "colab": {
     "base_uri": "https://localhost:8080/",
     "height": 289,
     "referenced_widgets": [
      "412caa4a5cfb4966b4cc10113c5794e6",
      "e6f49cb143d9470bbbd3a67ce58d6809",
      "bc93cef678ac461fbf15f38815a346bc",
      "8e626c59c3b04e2bb1435b5eb9a104dd",
      "8f0619da032b4215933c03e53ff93425",
      "815ebfb5e3aa47aa842c2963a4ec7348",
      "1e1cbcf17f01489e82ef78f12074ead6",
      "8e193e3c41fb41feaaa88251baaf2b8b",
      "86fb3ad9397c46908a65d1017731c588",
      "d3b408b7308c40f28ccd2b4f94ed434a",
      "427cadbfceb3425d826f8c15f4bfb588",
      "da00bdcbd681479e9ed1fc1348093593",
      "4c73bf5d0aeb44cc8304aa4d9d4d5bc4",
      "243119e5e8354b9bad3e5d2e24257429",
      "38dc5dfa134f4244b8d2811cd8dc14d1",
      "1734c0ba09c6409792af467c422c2b9a"
     ]
    },
    "id": "0FTl9cg0lF4K",
    "outputId": "44d12239-2267-4787-a0d3-b114b1d426d4"
   },
   "outputs": [
    {
     "data": {
      "application/vnd.jupyter.widget-view+json": {
       "model_id": "a282991585064befa9d84923fd549fc1",
       "version_major": 2,
       "version_minor": 0
      },
      "text/plain": [
       "HBox(children=(Image(value=b'GIF89a@\\x00@\\x00\\x87\\x00\\x00\\xff\\xff\\xff\\xfe\\xfe\\xfe\\xfd\\xfd\\xfd\\xfc\\xfc\\xfc\\xfb\\…"
      ]
     },
     "metadata": {},
     "output_type": "display_data"
    },
    {
     "data": {
      "application/vnd.jupyter.widget-view+json": {
       "model_id": "9a9b667242a2435990bc4eb48735bc93",
       "version_major": 2,
       "version_minor": 0
      },
      "text/plain": [
       "HBox(children=(Image(value=b'GIF89a@\\x00@\\x00\\x87\\x00\\x00\\xff\\xff\\xff\\xfe\\xfe\\xfe\\xfd\\xfd\\xfd\\xfc\\xfc\\xfc\\xfa\\…"
      ]
     },
     "metadata": {},
     "output_type": "display_data"
    },
    {
     "data": {
      "application/vnd.jupyter.widget-view+json": {
       "model_id": "8cf26cc1a99b44f68406cc04a4a9ddbc",
       "version_major": 2,
       "version_minor": 0
      },
      "text/plain": [
       "HBox(children=(Image(value=b'GIF89a@\\x00@\\x00\\x87\\x00\\x00\\xff\\xff\\xff\\xfe\\xfe\\xfe\\xfd\\xfd\\xfd\\xfc\\xfc\\xfc\\xfb\\…"
      ]
     },
     "metadata": {},
     "output_type": "display_data"
    }
   ],
   "source": [
    "# Get a batch\n",
    "input, _ = next(iter(val_loader))\n",
    "\n",
    "# Reverse process before displaying\n",
    "input = input.cpu().numpy() * 255.0     \n",
    "\n",
    "for video in input.squeeze(1)[:3]:          # Loop over videos\n",
    "    with io.BytesIO() as gif:\n",
    "        imageio.mimsave(gif,video.astype(np.uint8),\"GIF\",fps=5)\n",
    "        display(HBox([widgets.Image(value=gif.getvalue())]))"
   ]
  },
  {
   "cell_type": "markdown",
   "metadata": {
    "id": "LRNHKmZ1t0Nb"
   },
   "source": [
    "### Instantiate Model, Optimizer and Loss"
   ]
  },
  {
   "cell_type": "code",
   "execution_count": 6,
   "metadata": {
    "execution": {
     "iopub.execute_input": "2021-06-13T03:55:27.577542Z",
     "iopub.status.busy": "2021-06-13T03:55:27.577216Z",
     "iopub.status.idle": "2021-06-13T03:55:31.721032Z",
     "shell.execute_reply": "2021-06-13T03:55:31.720159Z",
     "shell.execute_reply.started": "2021-06-13T03:55:27.577511Z"
    },
    "id": "ha05rQ85SOoS"
   },
   "outputs": [],
   "source": [
    "# The input video frames are grayscale, thus single channel\n",
    "if entire_sequence_version:\n",
    "    model = Seq2Seq(num_channels=1, num_kernels=64, \n",
    "    kernel_size=(3, 3), padding=(1, 1), activation=\"relu\", \n",
    "    frame_size=(64, 64), num_layers=3, return_sequences=True).to(device)\n",
    "else:\n",
    "    model = Seq2Seq(num_channels=1, num_kernels=64, \n",
    "    kernel_size=(3, 3), padding=(1, 1), activation=\"relu\", \n",
    "    frame_size=(64, 64), num_layers=3, return_sequences=False).to(device)\n",
    "    \n",
    "\n",
    "optim = Adam(model.parameters(), lr=1e-4)\n",
    "\n",
    "# Binary Cross Entropy, target pixel values either 0 or 1\n",
    "criterion = nn.BCELoss(reduction='sum')"
   ]
  },
  {
   "cell_type": "markdown",
   "metadata": {
    "id": "3nSXyPN0t5pX"
   },
   "source": [
    "### Train for about 20 epochs"
   ]
  },
  {
   "cell_type": "code",
   "execution_count": null,
   "metadata": {
    "colab": {
     "base_uri": "https://localhost:8080/"
    },
    "execution": {
     "iopub.execute_input": "2021-06-13T03:55:53.999193Z",
     "iopub.status.busy": "2021-06-13T03:55:53.998820Z",
     "iopub.status.idle": "2021-06-13T06:05:33.059489Z",
     "shell.execute_reply": "2021-06-13T06:05:33.057958Z",
     "shell.execute_reply.started": "2021-06-13T03:55:53.999160Z"
    },
    "id": "xoIeBJjnDJeC",
    "outputId": "9e022a46-5f54-467c-aaa5-e4399222f5c3"
   },
   "outputs": [
    {
     "data": {
      "application/vnd.jupyter.widget-view+json": {
       "model_id": "b5f0b1e3c3ae4c3fadf372b3834e4172",
       "version_major": 2,
       "version_minor": 0
      },
      "text/plain": [
       "HBox(children=(HTML(value=''), FloatProgress(value=0.0, max=500.0), HTML(value='')))"
      ]
     },
     "metadata": {},
     "output_type": "display_data"
    },
    {
     "name": "stdout",
     "output_type": "stream",
     "text": [
      "\n",
      "Epoch:1 Training Loss:2236.41 Validation Loss:2138.27\n",
      "\n"
     ]
    },
    {
     "data": {
      "application/vnd.jupyter.widget-view+json": {
       "model_id": "0cb54a9ab0594841aa88f4d092140073",
       "version_major": 2,
       "version_minor": 0
      },
      "text/plain": [
       "HBox(children=(HTML(value=''), FloatProgress(value=0.0, max=500.0), HTML(value='')))"
      ]
     },
     "metadata": {},
     "output_type": "display_data"
    },
    {
     "name": "stdout",
     "output_type": "stream",
     "text": [
      "\n",
      "Epoch:2 Training Loss:2093.28 Validation Loss:2056.14\n",
      "\n"
     ]
    },
    {
     "data": {
      "application/vnd.jupyter.widget-view+json": {
       "model_id": "0523b0e2afe8403ba743bc9f3434b704",
       "version_major": 2,
       "version_minor": 0
      },
      "text/plain": [
       "HBox(children=(HTML(value=''), FloatProgress(value=0.0, max=500.0), HTML(value='')))"
      ]
     },
     "metadata": {},
     "output_type": "display_data"
    }
   ],
   "source": [
    "num_epochs = 20\n",
    "\n",
    "for epoch in range(1, num_epochs+1):\n",
    "    \n",
    "    train_loss = 0                                                 \n",
    "    model.train()                                                  \n",
    "    for batch_num, (input, target) in enumerate(tqdm(train_loader)):\n",
    "        output = model(input)                                     \n",
    "        loss = criterion(output.flatten(), target.flatten())       \n",
    "        loss.backward()                                            \n",
    "        optim.step()                                               \n",
    "        optim.zero_grad()                                           \n",
    "        train_loss += loss.item()                                 \n",
    "    train_loss /= len(train_loader.dataset)                       \n",
    "\n",
    "    val_loss = 0                                                 \n",
    "    model.eval()                                                   \n",
    "    with torch.no_grad():                                          \n",
    "        for input, target in val_loader:                          \n",
    "            output = model(input)                                   \n",
    "            loss = criterion(output.flatten(), target.flatten())   \n",
    "            val_loss += loss.item()                                \n",
    "    val_loss /= len(val_loader.dataset)                            \n",
    "\n",
    "    print(\"Epoch:{} Training Loss:{:.2f} Validation Loss:{:.2f}\\n\".format(\n",
    "        epoch, train_loss, val_loss))"
   ]
  },
  {
   "cell_type": "markdown",
   "metadata": {
    "id": "xyz_hW6y2z8F"
   },
   "source": [
    "### Visualize what our model has learned so far"
   ]
  },
  {
   "cell_type": "code",
   "execution_count": 9,
   "metadata": {
    "execution": {
     "iopub.execute_input": "2021-06-13T06:05:45.148609Z",
     "iopub.status.busy": "2021-06-13T06:05:45.148158Z",
     "iopub.status.idle": "2021-06-13T06:05:46.306769Z",
     "shell.execute_reply": "2021-06-13T06:05:46.305951Z",
     "shell.execute_reply.started": "2021-06-13T06:05:45.148567Z"
    },
    "id": "FYa1RUlz4Ohv"
   },
   "outputs": [],
   "source": [
    "### for 3d evaluation only \n",
    "if entire_sequence_version:\n",
    "    def collate_test(batch):\n",
    "\n",
    "        # Last 10 frames are target\n",
    "        target = np.array(batch)[:,10:]                     \n",
    "\n",
    "        # Add channel dim, scale pixels between 0 and 1, send to GPU\n",
    "        batch = torch.tensor(batch).unsqueeze(1)          \n",
    "        batch = batch / 255.0                             \n",
    "        batch = batch.to(device)                          \n",
    "        return batch, target\n",
    "\n",
    "    # Test Data Loader\n",
    "    test_loader = DataLoader(test_data,shuffle=True, \n",
    "                             batch_size=3, collate_fn=collate_test)\n",
    "\n",
    "    # Get a batch\n",
    "    batch, target = next(iter(test_loader))\n",
    "\n",
    "    # Initialize output sequence\n",
    "    output = np.zeros(target.shape, dtype=np.uint8)\n",
    "\n",
    "    # Loop over timesteps\n",
    "    for timestep in range(target.shape[1]):\n",
    "      input = batch[:,:,timestep:timestep+10]   \n",
    "      output[:,timestep]=(model(input).squeeze(1).cpu()[:,-1]>0.5)*255.0"
   ]
  },
  {
   "cell_type": "code",
   "execution_count": 52,
   "metadata": {},
   "outputs": [
    {
     "data": {
      "image/png": "[encoded data removed]",
      "text/plain": [
       "<Figure size 936x79.2 with 10 Axes>"
      ]
     },
     "metadata": {
      "needs_background": "light"
     },
     "output_type": "display_data"
    },
    {
     "data": {
      "image/png": "[encoded data removed]",
      "text/plain": [
       "<Figure size 936x79.2 with 10 Axes>"
      ]
     },
     "metadata": {
      "needs_background": "light"
     },
     "output_type": "display_data"
    }
   ],
   "source": [
    "### for 3D evaluation only\n",
    "if entire_sequence_version:\n",
    "    seq_len=input.squeeze(1)[0].shape[0]\n",
    "    fig, axs=plt.subplots(1,10, figsize=(13,1.1))\n",
    "    ax=axs.flatten()\n",
    "    for i in range(seq_len):\n",
    "        ax[i].imshow(input.squeeze(1)[0][1].cpu().numpy() * 255, cmap='gray', vmin=0, vmax=255)\n",
    "\n",
    "    seq_len=output[0].shape[0]\n",
    "    fig, axs=plt.subplots(1,10, figsize=(13,1.1))\n",
    "    ax=axs.flatten()\n",
    "    for i in range(seq_len):\n",
    "        ax[i].imshow(output[0][i], cmap='gray', vmin=0, vmax=255)"
   ]
  },
  {
   "cell_type": "code",
   "execution_count": null,
   "metadata": {},
   "outputs": [],
   "source": [
    "### for 2d evaluation\n",
    "if not entire_sequence_version:\n",
    "    def collate_test(batch):\n",
    "\n",
    "        # Last 10 frames are target\n",
    "        target = np.array(batch)[:,10:]                     \n",
    "\n",
    "        # Add channel dim, scale pixels between 0 and 1, send to GPU\n",
    "        batch = torch.tensor(batch).unsqueeze(1)          \n",
    "        batch = batch / 255.0                             \n",
    "        batch = batch.to(device)                          \n",
    "        return batch, target\n",
    "\n",
    "    # Test Data Loader\n",
    "    test_loader = DataLoader(test_data,shuffle=True, \n",
    "                             batch_size=3, collate_fn=collate_test)\n",
    "\n",
    "    # Get a batch\n",
    "    batch, target = next(iter(test_loader))\n",
    "\n",
    "    # Initialize output sequence\n",
    "    output = np.zeros(target.shape, dtype=np.uint8)\n",
    "\n",
    "    # Loop over timesteps\n",
    "    for timestep in range(target.shape[1]):\n",
    "      input = batch[:,:,timestep:timestep+10]   \n",
    "      output[:,timestep]=(model(input).squeeze(1).cpu()>0.5)*255.0"
   ]
  },
  {
   "cell_type": "code",
   "execution_count": 10,
   "metadata": {
    "colab": {
     "base_uri": "https://localhost:8080/",
     "height": 221,
     "referenced_widgets": [
      "dacd00a4830b4d55b90d6de6a3a24666",
      "3d243892135042a29b2070517b08ef8f",
      "c2cce59c6cfe418fa95c59b312bf67be",
      "5c25f914485544ce8850a21c5e2c434f",
      "fe1eec383b144effb72ead9319fcb66e",
      "482d9591ac8c4205ab941775f169f651",
      "b0d5e06a8808496bb5943406f5becd2c",
      "b87c4fcb875c4867b50ff3e8f232a0c3",
      "403adc06c3e74dfbb07ada068ca5d3cb",
      "9dc26d3da3c8491ca90d9a07638d5385",
      "908ceb4de6424170a8226f83ea326908",
      "6059361ed9d84a4f89ffab69b488ae8e",
      "581d2b5bb59248d2b3a5df163af75199",
      "a2388d5494924f69ab44a0ba64b515d9",
      "117c104f800b491f8ece798ce306ebe4",
      "6ca8336327bd4c9cbc1523cb6d8db356",
      "af8f0792f3f540bc8e94169e844dcd44",
      "16b83a0b83a249df89bee058764f7f96"
     ]
    },
    "execution": {
     "iopub.execute_input": "2021-06-13T06:05:50.445518Z",
     "iopub.status.busy": "2021-06-13T06:05:50.445206Z",
     "iopub.status.idle": "2021-06-13T06:05:50.787234Z",
     "shell.execute_reply": "2021-06-13T06:05:50.786431Z",
     "shell.execute_reply.started": "2021-06-13T06:05:50.445489Z"
    },
    "id": "S4skPdeeUIMG",
    "outputId": "3a7d98ca-aa95-4134-aafc-26454cebfa8c"
   },
   "outputs": [
    {
     "data": {
      "application/vnd.jupyter.widget-view+json": {
       "model_id": "31b9ab67e16946899f6d133c41cbc9e5",
       "version_major": 2,
       "version_minor": 0
      },
      "text/plain": [
       "HBox(children=(Image(value=b'GIF89a@\\x00@\\x00\\x87\\x00\\x00\\xff\\xff\\xff\\xfe\\xfe\\xfe\\xfd\\xfd\\xfd\\xfc\\xfc\\xfc\\xfb\\…"
      ]
     },
     "metadata": {},
     "output_type": "display_data"
    },
    {
     "data": {
      "application/vnd.jupyter.widget-view+json": {
       "model_id": "37af0624b873464bb8b6945e7bf4a44c",
       "version_major": 2,
       "version_minor": 0
      },
      "text/plain": [
       "HBox(children=(Image(value=b'GIF89a@\\x00@\\x00\\x87\\x00\\x00\\xff\\xff\\xff\\xfd\\xfd\\xfd\\xfc\\xfc\\xfc\\xf9\\xf9\\xf9\\xf8\\…"
      ]
     },
     "metadata": {},
     "output_type": "display_data"
    },
    {
     "data": {
      "application/vnd.jupyter.widget-view+json": {
       "model_id": "cbd91ea60cbc47fd9cdc2f5fb841afd0",
       "version_major": 2,
       "version_minor": 0
      },
      "text/plain": [
       "HBox(children=(Image(value=b'GIF89a@\\x00@\\x00\\x87\\x00\\x00\\xff\\xff\\xff\\xfe\\xfe\\xfe\\xfd\\xfd\\xfd\\xfb\\xfb\\xfb\\xfa\\…"
      ]
     },
     "metadata": {},
     "output_type": "display_data"
    }
   ],
   "source": [
    "### for 2d evaluation\n",
    "if not entire_sequence_version:\n",
    "    for tgt, out in zip(target, output):       # Loop over samples\n",
    "\n",
    "        # Write target video as gif\n",
    "        with io.BytesIO() as gif:\n",
    "            imageio.mimsave(gif, tgt, \"GIF\", fps = 5)    \n",
    "            target_gif = gif.getvalue()\n",
    "\n",
    "        # Write output video as gif\n",
    "        with io.BytesIO() as gif:\n",
    "            imageio.mimsave(gif, out, \"GIF\", fps = 5)    \n",
    "            output_gif = gif.getvalue()\n",
    "\n",
    "        display(HBox([widgets.Image(value=target_gif), \n",
    "                      widgets.Image(value=output_gif)]))"
   ]
  },
  {
   "cell_type": "code",
   "execution_count": null,
   "metadata": {},
   "outputs": [],
   "source": []
  }
 ],
 "metadata": {
  "accelerator": "GPU",
  "colab": {
   "collapsed_sections": [],
   "name": "Medium.ipynb",
   "provenance": []
  },
  "kernelspec": {
   "display_name": "Python 3 (ipykernel)",
   "language": "python",
   "name": "python3"
  },
  "language_info": {
   "codemirror_mode": {
    "name": "ipython",
    "version": 3
   },
   "file_extension": ".py",
   "mimetype": "text/x-python",
   "name": "python",
   "nbconvert_exporter": "python",
   "pygments_lexer": "ipython3",
   "version": "3.8.12"
  },
  "widgets": {
   "application/vnd.jupyter.widget-state+json": {
    "117c104f800b491f8ece798ce306ebe4": {
     "model_module": "@jupyter-widgets/controls",
     "model_name": "ImageModel",
     "state": {
      "_dom_classes": [],
      "_model_module": "@jupyter-widgets/controls",
      "_model_module_version": "1.5.0",
      "_model_name": "ImageModel",
      "_view_count": null,
      "_view_module": "@jupyter-widgets/controls",
      "_view_module_version": "1.5.0",
      "_view_name": "ImageView",
      "format": "png",
      "height": "",
      "layout": "IPY_MODEL_af8f0792f3f540bc8e94169e844dcd44",
      "width": ""
     }
    },
    "16b83a0b83a249df89bee058764f7f96": {
     "model_module": "@jupyter-widgets/base",
     "model_name": "LayoutModel",
     "state": {
      "_model_module": "@jupyter-widgets/base",
      "_model_module_version": "1.2.0",
      "_model_name": "LayoutModel",
      "_view_count": null,
      "_view_module": "@jupyter-widgets/base",
      "_view_module_version": "1.2.0",
      "_view_name": "LayoutView",
      "align_content": null,
      "align_items": null,
      "align_self": null,
      "border": null,
      "bottom": null,
      "display": null,
      "flex": null,
      "flex_flow": null,
      "grid_area": null,
      "grid_auto_columns": null,
      "grid_auto_flow": null,
      "grid_auto_rows": null,
      "grid_column": null,
      "grid_gap": null,
      "grid_row": null,
      "grid_template_areas": null,
      "grid_template_columns": null,
      "grid_template_rows": null,
      "height": null,
      "justify_content": null,
      "justify_items": null,
      "left": null,
      "margin": null,
      "max_height": null,
      "max_width": null,
      "min_height": null,
      "min_width": null,
      "object_fit": null,
      "object_position": null,
      "order": null,
      "overflow": null,
      "overflow_x": null,
      "overflow_y": null,
      "padding": null,
      "right": null,
      "top": null,
      "visibility": null,
      "width": null
     }
    },
    "1734c0ba09c6409792af467c422c2b9a": {
     "model_module": "@jupyter-widgets/base",
     "model_name": "LayoutModel",
     "state": {
      "_model_module": "@jupyter-widgets/base",
      "_model_module_version": "1.2.0",
      "_model_name": "LayoutModel",
      "_view_count": null,
      "_view_module": "@jupyter-widgets/base",
      "_view_module_version": "1.2.0",
      "_view_name": "LayoutView",
      "align_content": null,
      "align_items": null,
      "align_self": null,
      "border": null,
      "bottom": null,
      "display": null,
      "flex": null,
      "flex_flow": null,
      "grid_area": null,
      "grid_auto_columns": null,
      "grid_auto_flow": null,
      "grid_auto_rows": null,
      "grid_column": null,
      "grid_gap": null,
      "grid_row": null,
      "grid_template_areas": null,
      "grid_template_columns": null,
      "grid_template_rows": null,
      "height": null,
      "justify_content": null,
      "justify_items": null,
      "left": null,
      "margin": null,
      "max_height": null,
      "max_width": null,
      "min_height": null,
      "min_width": null,
      "object_fit": null,
      "object_position": null,
      "order": null,
      "overflow": null,
      "overflow_x": null,
      "overflow_y": null,
      "padding": null,
      "right": null,
      "top": null,
      "visibility": null,
      "width": null
     }
    },
    "1e1cbcf17f01489e82ef78f12074ead6": {
     "model_module": "@jupyter-widgets/controls",
     "model_name": "ImageModel",
     "state": {
      "_dom_classes": [],
      "_model_module": "@jupyter-widgets/controls",
      "_model_module_version": "1.5.0",
      "_model_name": "ImageModel",
      "_view_count": null,
      "_view_module": "@jupyter-widgets/controls",
      "_view_module_version": "1.5.0",
      "_view_name": "ImageView",
      "format": "png",
      "height": "",
      "layout": "IPY_MODEL_8e193e3c41fb41feaaa88251baaf2b8b",
      "width": ""
     }
    },
    "243119e5e8354b9bad3e5d2e24257429": {
     "model_module": "@jupyter-widgets/base",
     "model_name": "LayoutModel",
     "state": {
      "_model_module": "@jupyter-widgets/base",
      "_model_module_version": "1.2.0",
      "_model_name": "LayoutModel",
      "_view_count": null,
      "_view_module": "@jupyter-widgets/base",
      "_view_module_version": "1.2.0",
      "_view_name": "LayoutView",
      "align_content": null,
      "align_items": null,
      "align_self": null,
      "border": null,
      "bottom": null,
      "display": null,
      "flex": null,
      "flex_flow": null,
      "grid_area": null,
      "grid_auto_columns": null,
      "grid_auto_flow": null,
      "grid_auto_rows": null,
      "grid_column": null,
      "grid_gap": null,
      "grid_row": null,
      "grid_template_areas": null,
      "grid_template_columns": null,
      "grid_template_rows": null,
      "height": null,
      "justify_content": null,
      "justify_items": null,
      "left": null,
      "margin": null,
      "max_height": null,
      "max_width": null,
      "min_height": null,
      "min_width": null,
      "object_fit": null,
      "object_position": null,
      "order": null,
      "overflow": null,
      "overflow_x": null,
      "overflow_y": null,
      "padding": null,
      "right": null,
      "top": null,
      "visibility": null,
      "width": null
     }
    },
    "38dc5dfa134f4244b8d2811cd8dc14d1": {
     "model_module": "@jupyter-widgets/controls",
     "model_name": "ImageModel",
     "state": {
      "_dom_classes": [],
      "_model_module": "@jupyter-widgets/controls",
      "_model_module_version": "1.5.0",
      "_model_name": "ImageModel",
      "_view_count": null,
      "_view_module": "@jupyter-widgets/controls",
      "_view_module_version": "1.5.0",
      "_view_name": "ImageView",
      "format": "png",
      "height": "",
      "layout": "IPY_MODEL_1734c0ba09c6409792af467c422c2b9a",
      "width": ""
     }
    },
    "3d243892135042a29b2070517b08ef8f": {
     "model_module": "@jupyter-widgets/base",
     "model_name": "LayoutModel",
     "state": {
      "_model_module": "@jupyter-widgets/base",
      "_model_module_version": "1.2.0",
      "_model_name": "LayoutModel",
      "_view_count": null,
      "_view_module": "@jupyter-widgets/base",
      "_view_module_version": "1.2.0",
      "_view_name": "LayoutView",
      "align_content": null,
      "align_items": null,
      "align_self": null,
      "border": null,
      "bottom": null,
      "display": null,
      "flex": null,
      "flex_flow": null,
      "grid_area": null,
      "grid_auto_columns": null,
      "grid_auto_flow": null,
      "grid_auto_rows": null,
      "grid_column": null,
      "grid_gap": null,
      "grid_row": null,
      "grid_template_areas": null,
      "grid_template_columns": null,
      "grid_template_rows": null,
      "height": null,
      "justify_content": null,
      "justify_items": null,
      "left": null,
      "margin": null,
      "max_height": null,
      "max_width": null,
      "min_height": null,
      "min_width": null,
      "object_fit": null,
      "object_position": null,
      "order": null,
      "overflow": null,
      "overflow_x": null,
      "overflow_y": null,
      "padding": null,
      "right": null,
      "top": null,
      "visibility": null,
      "width": null
     }
    },
    "403adc06c3e74dfbb07ada068ca5d3cb": {
     "model_module": "@jupyter-widgets/controls",
     "model_name": "ImageModel",
     "state": {
      "_dom_classes": [],
      "_model_module": "@jupyter-widgets/controls",
      "_model_module_version": "1.5.0",
      "_model_name": "ImageModel",
      "_view_count": null,
      "_view_module": "@jupyter-widgets/controls",
      "_view_module_version": "1.5.0",
      "_view_name": "ImageView",
      "format": "png",
      "height": "",
      "layout": "IPY_MODEL_908ceb4de6424170a8226f83ea326908",
      "width": ""
     }
    },
    "412caa4a5cfb4966b4cc10113c5794e6": {
     "model_module": "@jupyter-widgets/controls",
     "model_name": "HBoxModel",
     "state": {
      "_dom_classes": [],
      "_model_module": "@jupyter-widgets/controls",
      "_model_module_version": "1.5.0",
      "_model_name": "HBoxModel",
      "_view_count": null,
      "_view_module": "@jupyter-widgets/controls",
      "_view_module_version": "1.5.0",
      "_view_name": "HBoxView",
      "box_style": "",
      "children": [
       "IPY_MODEL_bc93cef678ac461fbf15f38815a346bc"
      ],
      "layout": "IPY_MODEL_e6f49cb143d9470bbbd3a67ce58d6809"
     }
    },
    "427cadbfceb3425d826f8c15f4bfb588": {
     "model_module": "@jupyter-widgets/controls",
     "model_name": "ImageModel",
     "state": {
      "_dom_classes": [],
      "_model_module": "@jupyter-widgets/controls",
      "_model_module_version": "1.5.0",
      "_model_name": "ImageModel",
      "_view_count": null,
      "_view_module": "@jupyter-widgets/controls",
      "_view_module_version": "1.5.0",
      "_view_name": "ImageView",
      "format": "png",
      "height": "",
      "layout": "IPY_MODEL_da00bdcbd681479e9ed1fc1348093593",
      "width": ""
     }
    },
    "482d9591ac8c4205ab941775f169f651": {
     "model_module": "@jupyter-widgets/base",
     "model_name": "LayoutModel",
     "state": {
      "_model_module": "@jupyter-widgets/base",
      "_model_module_version": "1.2.0",
      "_model_name": "LayoutModel",
      "_view_count": null,
      "_view_module": "@jupyter-widgets/base",
      "_view_module_version": "1.2.0",
      "_view_name": "LayoutView",
      "align_content": null,
      "align_items": null,
      "align_self": null,
      "border": null,
      "bottom": null,
      "display": null,
      "flex": null,
      "flex_flow": null,
      "grid_area": null,
      "grid_auto_columns": null,
      "grid_auto_flow": null,
      "grid_auto_rows": null,
      "grid_column": null,
      "grid_gap": null,
      "grid_row": null,
      "grid_template_areas": null,
      "grid_template_columns": null,
      "grid_template_rows": null,
      "height": null,
      "justify_content": null,
      "justify_items": null,
      "left": null,
      "margin": null,
      "max_height": null,
      "max_width": null,
      "min_height": null,
      "min_width": null,
      "object_fit": null,
      "object_position": null,
      "order": null,
      "overflow": null,
      "overflow_x": null,
      "overflow_y": null,
      "padding": null,
      "right": null,
      "top": null,
      "visibility": null,
      "width": null
     }
    },
    "4c73bf5d0aeb44cc8304aa4d9d4d5bc4": {
     "model_module": "@jupyter-widgets/controls",
     "model_name": "HBoxModel",
     "state": {
      "_dom_classes": [],
      "_model_module": "@jupyter-widgets/controls",
      "_model_module_version": "1.5.0",
      "_model_name": "HBoxModel",
      "_view_count": null,
      "_view_module": "@jupyter-widgets/controls",
      "_view_module_version": "1.5.0",
      "_view_name": "HBoxView",
      "box_style": "",
      "children": [
       "IPY_MODEL_38dc5dfa134f4244b8d2811cd8dc14d1"
      ],
      "layout": "IPY_MODEL_243119e5e8354b9bad3e5d2e24257429"
     }
    },
    "581d2b5bb59248d2b3a5df163af75199": {
     "model_module": "@jupyter-widgets/controls",
     "model_name": "HBoxModel",
     "state": {
      "_dom_classes": [],
      "_model_module": "@jupyter-widgets/controls",
      "_model_module_version": "1.5.0",
      "_model_name": "HBoxModel",
      "_view_count": null,
      "_view_module": "@jupyter-widgets/controls",
      "_view_module_version": "1.5.0",
      "_view_name": "HBoxView",
      "box_style": "",
      "children": [
       "IPY_MODEL_117c104f800b491f8ece798ce306ebe4",
       "IPY_MODEL_6ca8336327bd4c9cbc1523cb6d8db356"
      ],
      "layout": "IPY_MODEL_a2388d5494924f69ab44a0ba64b515d9"
     }
    },
    "5c25f914485544ce8850a21c5e2c434f": {
     "model_module": "@jupyter-widgets/controls",
     "model_name": "ImageModel",
     "state": {
      "_dom_classes": [],
      "_model_module": "@jupyter-widgets/controls",
      "_model_module_version": "1.5.0",
      "_model_name": "ImageModel",
      "_view_count": null,
      "_view_module": "@jupyter-widgets/controls",
      "_view_module_version": "1.5.0",
      "_view_name": "ImageView",
      "format": "png",
      "height": "",
      "layout": "IPY_MODEL_482d9591ac8c4205ab941775f169f651",
      "width": ""
     }
    },
    "6059361ed9d84a4f89ffab69b488ae8e": {
     "model_module": "@jupyter-widgets/base",
     "model_name": "LayoutModel",
     "state": {
      "_model_module": "@jupyter-widgets/base",
      "_model_module_version": "1.2.0",
      "_model_name": "LayoutModel",
      "_view_count": null,
      "_view_module": "@jupyter-widgets/base",
      "_view_module_version": "1.2.0",
      "_view_name": "LayoutView",
      "align_content": null,
      "align_items": null,
      "align_self": null,
      "border": null,
      "bottom": null,
      "display": null,
      "flex": null,
      "flex_flow": null,
      "grid_area": null,
      "grid_auto_columns": null,
      "grid_auto_flow": null,
      "grid_auto_rows": null,
      "grid_column": null,
      "grid_gap": null,
      "grid_row": null,
      "grid_template_areas": null,
      "grid_template_columns": null,
      "grid_template_rows": null,
      "height": null,
      "justify_content": null,
      "justify_items": null,
      "left": null,
      "margin": null,
      "max_height": null,
      "max_width": null,
      "min_height": null,
      "min_width": null,
      "object_fit": null,
      "object_position": null,
      "order": null,
      "overflow": null,
      "overflow_x": null,
      "overflow_y": null,
      "padding": null,
      "right": null,
      "top": null,
      "visibility": null,
      "width": null
     }
    },
    "6ca8336327bd4c9cbc1523cb6d8db356": {
     "model_module": "@jupyter-widgets/controls",
     "model_name": "ImageModel",
     "state": {
      "_dom_classes": [],
      "_model_module": "@jupyter-widgets/controls",
      "_model_module_version": "1.5.0",
      "_model_name": "ImageModel",
      "_view_count": null,
      "_view_module": "@jupyter-widgets/controls",
      "_view_module_version": "1.5.0",
      "_view_name": "ImageView",
      "format": "png",
      "height": "",
      "layout": "IPY_MODEL_16b83a0b83a249df89bee058764f7f96",
      "width": ""
     }
    },
    "815ebfb5e3aa47aa842c2963a4ec7348": {
     "model_module": "@jupyter-widgets/base",
     "model_name": "LayoutModel",
     "state": {
      "_model_module": "@jupyter-widgets/base",
      "_model_module_version": "1.2.0",
      "_model_name": "LayoutModel",
      "_view_count": null,
      "_view_module": "@jupyter-widgets/base",
      "_view_module_version": "1.2.0",
      "_view_name": "LayoutView",
      "align_content": null,
      "align_items": null,
      "align_self": null,
      "border": null,
      "bottom": null,
      "display": null,
      "flex": null,
      "flex_flow": null,
      "grid_area": null,
      "grid_auto_columns": null,
      "grid_auto_flow": null,
      "grid_auto_rows": null,
      "grid_column": null,
      "grid_gap": null,
      "grid_row": null,
      "grid_template_areas": null,
      "grid_template_columns": null,
      "grid_template_rows": null,
      "height": null,
      "justify_content": null,
      "justify_items": null,
      "left": null,
      "margin": null,
      "max_height": null,
      "max_width": null,
      "min_height": null,
      "min_width": null,
      "object_fit": null,
      "object_position": null,
      "order": null,
      "overflow": null,
      "overflow_x": null,
      "overflow_y": null,
      "padding": null,
      "right": null,
      "top": null,
      "visibility": null,
      "width": null
     }
    },
    "86fb3ad9397c46908a65d1017731c588": {
     "model_module": "@jupyter-widgets/controls",
     "model_name": "HBoxModel",
     "state": {
      "_dom_classes": [],
      "_model_module": "@jupyter-widgets/controls",
      "_model_module_version": "1.5.0",
      "_model_name": "HBoxModel",
      "_view_count": null,
      "_view_module": "@jupyter-widgets/controls",
      "_view_module_version": "1.5.0",
      "_view_name": "HBoxView",
      "box_style": "",
      "children": [
       "IPY_MODEL_427cadbfceb3425d826f8c15f4bfb588"
      ],
      "layout": "IPY_MODEL_d3b408b7308c40f28ccd2b4f94ed434a"
     }
    },
    "8e193e3c41fb41feaaa88251baaf2b8b": {
     "model_module": "@jupyter-widgets/base",
     "model_name": "LayoutModel",
     "state": {
      "_model_module": "@jupyter-widgets/base",
      "_model_module_version": "1.2.0",
      "_model_name": "LayoutModel",
      "_view_count": null,
      "_view_module": "@jupyter-widgets/base",
      "_view_module_version": "1.2.0",
      "_view_name": "LayoutView",
      "align_content": null,
      "align_items": null,
      "align_self": null,
      "border": null,
      "bottom": null,
      "display": null,
      "flex": null,
      "flex_flow": null,
      "grid_area": null,
      "grid_auto_columns": null,
      "grid_auto_flow": null,
      "grid_auto_rows": null,
      "grid_column": null,
      "grid_gap": null,
      "grid_row": null,
      "grid_template_areas": null,
      "grid_template_columns": null,
      "grid_template_rows": null,
      "height": null,
      "justify_content": null,
      "justify_items": null,
      "left": null,
      "margin": null,
      "max_height": null,
      "max_width": null,
      "min_height": null,
      "min_width": null,
      "object_fit": null,
      "object_position": null,
      "order": null,
      "overflow": null,
      "overflow_x": null,
      "overflow_y": null,
      "padding": null,
      "right": null,
      "top": null,
      "visibility": null,
      "width": null
     }
    },
    "8e626c59c3b04e2bb1435b5eb9a104dd": {
     "model_module": "@jupyter-widgets/base",
     "model_name": "LayoutModel",
     "state": {
      "_model_module": "@jupyter-widgets/base",
      "_model_module_version": "1.2.0",
      "_model_name": "LayoutModel",
      "_view_count": null,
      "_view_module": "@jupyter-widgets/base",
      "_view_module_version": "1.2.0",
      "_view_name": "LayoutView",
      "align_content": null,
      "align_items": null,
      "align_self": null,
      "border": null,
      "bottom": null,
      "display": null,
      "flex": null,
      "flex_flow": null,
      "grid_area": null,
      "grid_auto_columns": null,
      "grid_auto_flow": null,
      "grid_auto_rows": null,
      "grid_column": null,
      "grid_gap": null,
      "grid_row": null,
      "grid_template_areas": null,
      "grid_template_columns": null,
      "grid_template_rows": null,
      "height": null,
      "justify_content": null,
      "justify_items": null,
      "left": null,
      "margin": null,
      "max_height": null,
      "max_width": null,
      "min_height": null,
      "min_width": null,
      "object_fit": null,
      "object_position": null,
      "order": null,
      "overflow": null,
      "overflow_x": null,
      "overflow_y": null,
      "padding": null,
      "right": null,
      "top": null,
      "visibility": null,
      "width": null
     }
    },
    "8f0619da032b4215933c03e53ff93425": {
     "model_module": "@jupyter-widgets/controls",
     "model_name": "HBoxModel",
     "state": {
      "_dom_classes": [],
      "_model_module": "@jupyter-widgets/controls",
      "_model_module_version": "1.5.0",
      "_model_name": "HBoxModel",
      "_view_count": null,
      "_view_module": "@jupyter-widgets/controls",
      "_view_module_version": "1.5.0",
      "_view_name": "HBoxView",
      "box_style": "",
      "children": [
       "IPY_MODEL_1e1cbcf17f01489e82ef78f12074ead6"
      ],
      "layout": "IPY_MODEL_815ebfb5e3aa47aa842c2963a4ec7348"
     }
    },
    "908ceb4de6424170a8226f83ea326908": {
     "model_module": "@jupyter-widgets/base",
     "model_name": "LayoutModel",
     "state": {
      "_model_module": "@jupyter-widgets/base",
      "_model_module_version": "1.2.0",
      "_model_name": "LayoutModel",
      "_view_count": null,
      "_view_module": "@jupyter-widgets/base",
      "_view_module_version": "1.2.0",
      "_view_name": "LayoutView",
      "align_content": null,
      "align_items": null,
      "align_self": null,
      "border": null,
      "bottom": null,
      "display": null,
      "flex": null,
      "flex_flow": null,
      "grid_area": null,
      "grid_auto_columns": null,
      "grid_auto_flow": null,
      "grid_auto_rows": null,
      "grid_column": null,
      "grid_gap": null,
      "grid_row": null,
      "grid_template_areas": null,
      "grid_template_columns": null,
      "grid_template_rows": null,
      "height": null,
      "justify_content": null,
      "justify_items": null,
      "left": null,
      "margin": null,
      "max_height": null,
      "max_width": null,
      "min_height": null,
      "min_width": null,
      "object_fit": null,
      "object_position": null,
      "order": null,
      "overflow": null,
      "overflow_x": null,
      "overflow_y": null,
      "padding": null,
      "right": null,
      "top": null,
      "visibility": null,
      "width": null
     }
    },
    "9dc26d3da3c8491ca90d9a07638d5385": {
     "model_module": "@jupyter-widgets/controls",
     "model_name": "ImageModel",
     "state": {
      "_dom_classes": [],
      "_model_module": "@jupyter-widgets/controls",
      "_model_module_version": "1.5.0",
      "_model_name": "ImageModel",
      "_view_count": null,
      "_view_module": "@jupyter-widgets/controls",
      "_view_module_version": "1.5.0",
      "_view_name": "ImageView",
      "format": "png",
      "height": "",
      "layout": "IPY_MODEL_6059361ed9d84a4f89ffab69b488ae8e",
      "width": ""
     }
    },
    "a2388d5494924f69ab44a0ba64b515d9": {
     "model_module": "@jupyter-widgets/base",
     "model_name": "LayoutModel",
     "state": {
      "_model_module": "@jupyter-widgets/base",
      "_model_module_version": "1.2.0",
      "_model_name": "LayoutModel",
      "_view_count": null,
      "_view_module": "@jupyter-widgets/base",
      "_view_module_version": "1.2.0",
      "_view_name": "LayoutView",
      "align_content": null,
      "align_items": null,
      "align_self": null,
      "border": null,
      "bottom": null,
      "display": null,
      "flex": null,
      "flex_flow": null,
      "grid_area": null,
      "grid_auto_columns": null,
      "grid_auto_flow": null,
      "grid_auto_rows": null,
      "grid_column": null,
      "grid_gap": null,
      "grid_row": null,
      "grid_template_areas": null,
      "grid_template_columns": null,
      "grid_template_rows": null,
      "height": null,
      "justify_content": null,
      "justify_items": null,
      "left": null,
      "margin": null,
      "max_height": null,
      "max_width": null,
      "min_height": null,
      "min_width": null,
      "object_fit": null,
      "object_position": null,
      "order": null,
      "overflow": null,
      "overflow_x": null,
      "overflow_y": null,
      "padding": null,
      "right": null,
      "top": null,
      "visibility": null,
      "width": null
     }
    },
    "af8f0792f3f540bc8e94169e844dcd44": {
     "model_module": "@jupyter-widgets/base",
     "model_name": "LayoutModel",
     "state": {
      "_model_module": "@jupyter-widgets/base",
      "_model_module_version": "1.2.0",
      "_model_name": "LayoutModel",
      "_view_count": null,
      "_view_module": "@jupyter-widgets/base",
      "_view_module_version": "1.2.0",
      "_view_name": "LayoutView",
      "align_content": null,
      "align_items": null,
      "align_self": null,
      "border": null,
      "bottom": null,
      "display": null,
      "flex": null,
      "flex_flow": null,
      "grid_area": null,
      "grid_auto_columns": null,
      "grid_auto_flow": null,
      "grid_auto_rows": null,
      "grid_column": null,
      "grid_gap": null,
      "grid_row": null,
      "grid_template_areas": null,
      "grid_template_columns": null,
      "grid_template_rows": null,
      "height": null,
      "justify_content": null,
      "justify_items": null,
      "left": null,
      "margin": null,
      "max_height": null,
      "max_width": null,
      "min_height": null,
      "min_width": null,
      "object_fit": null,
      "object_position": null,
      "order": null,
      "overflow": null,
      "overflow_x": null,
      "overflow_y": null,
      "padding": null,
      "right": null,
      "top": null,
      "visibility": null,
      "width": null
     }
    },
    "b0d5e06a8808496bb5943406f5becd2c": {
     "model_module": "@jupyter-widgets/controls",
     "model_name": "HBoxModel",
     "state": {
      "_dom_classes": [],
      "_model_module": "@jupyter-widgets/controls",
      "_model_module_version": "1.5.0",
      "_model_name": "HBoxModel",
      "_view_count": null,
      "_view_module": "@jupyter-widgets/controls",
      "_view_module_version": "1.5.0",
      "_view_name": "HBoxView",
      "box_style": "",
      "children": [
       "IPY_MODEL_403adc06c3e74dfbb07ada068ca5d3cb",
       "IPY_MODEL_9dc26d3da3c8491ca90d9a07638d5385"
      ],
      "layout": "IPY_MODEL_b87c4fcb875c4867b50ff3e8f232a0c3"
     }
    },
    "b87c4fcb875c4867b50ff3e8f232a0c3": {
     "model_module": "@jupyter-widgets/base",
     "model_name": "LayoutModel",
     "state": {
      "_model_module": "@jupyter-widgets/base",
      "_model_module_version": "1.2.0",
      "_model_name": "LayoutModel",
      "_view_count": null,
      "_view_module": "@jupyter-widgets/base",
      "_view_module_version": "1.2.0",
      "_view_name": "LayoutView",
      "align_content": null,
      "align_items": null,
      "align_self": null,
      "border": null,
      "bottom": null,
      "display": null,
      "flex": null,
      "flex_flow": null,
      "grid_area": null,
      "grid_auto_columns": null,
      "grid_auto_flow": null,
      "grid_auto_rows": null,
      "grid_column": null,
      "grid_gap": null,
      "grid_row": null,
      "grid_template_areas": null,
      "grid_template_columns": null,
      "grid_template_rows": null,
      "height": null,
      "justify_content": null,
      "justify_items": null,
      "left": null,
      "margin": null,
      "max_height": null,
      "max_width": null,
      "min_height": null,
      "min_width": null,
      "object_fit": null,
      "object_position": null,
      "order": null,
      "overflow": null,
      "overflow_x": null,
      "overflow_y": null,
      "padding": null,
      "right": null,
      "top": null,
      "visibility": null,
      "width": null
     }
    },
    "bc93cef678ac461fbf15f38815a346bc": {
     "model_module": "@jupyter-widgets/controls",
     "model_name": "ImageModel",
     "state": {
      "_dom_classes": [],
      "_model_module": "@jupyter-widgets/controls",
      "_model_module_version": "1.5.0",
      "_model_name": "ImageModel",
      "_view_count": null,
      "_view_module": "@jupyter-widgets/controls",
      "_view_module_version": "1.5.0",
      "_view_name": "ImageView",
      "format": "png",
      "height": "",
      "layout": "IPY_MODEL_8e626c59c3b04e2bb1435b5eb9a104dd",
      "width": ""
     }
    },
    "c2cce59c6cfe418fa95c59b312bf67be": {
     "model_module": "@jupyter-widgets/controls",
     "model_name": "ImageModel",
     "state": {
      "_dom_classes": [],
      "_model_module": "@jupyter-widgets/controls",
      "_model_module_version": "1.5.0",
      "_model_name": "ImageModel",
      "_view_count": null,
      "_view_module": "@jupyter-widgets/controls",
      "_view_module_version": "1.5.0",
      "_view_name": "ImageView",
      "format": "png",
      "height": "",
      "layout": "IPY_MODEL_fe1eec383b144effb72ead9319fcb66e",
      "width": ""
     }
    },
    "d3b408b7308c40f28ccd2b4f94ed434a": {
     "model_module": "@jupyter-widgets/base",
     "model_name": "LayoutModel",
     "state": {
      "_model_module": "@jupyter-widgets/base",
      "_model_module_version": "1.2.0",
      "_model_name": "LayoutModel",
      "_view_count": null,
      "_view_module": "@jupyter-widgets/base",
      "_view_module_version": "1.2.0",
      "_view_name": "LayoutView",
      "align_content": null,
      "align_items": null,
      "align_self": null,
      "border": null,
      "bottom": null,
      "display": null,
      "flex": null,
      "flex_flow": null,
      "grid_area": null,
      "grid_auto_columns": null,
      "grid_auto_flow": null,
      "grid_auto_rows": null,
      "grid_column": null,
      "grid_gap": null,
      "grid_row": null,
      "grid_template_areas": null,
      "grid_template_columns": null,
      "grid_template_rows": null,
      "height": null,
      "justify_content": null,
      "justify_items": null,
      "left": null,
      "margin": null,
      "max_height": null,
      "max_width": null,
      "min_height": null,
      "min_width": null,
      "object_fit": null,
      "object_position": null,
      "order": null,
      "overflow": null,
      "overflow_x": null,
      "overflow_y": null,
      "padding": null,
      "right": null,
      "top": null,
      "visibility": null,
      "width": null
     }
    },
    "da00bdcbd681479e9ed1fc1348093593": {
     "model_module": "@jupyter-widgets/base",
     "model_name": "LayoutModel",
     "state": {
      "_model_module": "@jupyter-widgets/base",
      "_model_module_version": "1.2.0",
      "_model_name": "LayoutModel",
      "_view_count": null,
      "_view_module": "@jupyter-widgets/base",
      "_view_module_version": "1.2.0",
      "_view_name": "LayoutView",
      "align_content": null,
      "align_items": null,
      "align_self": null,
      "border": null,
      "bottom": null,
      "display": null,
      "flex": null,
      "flex_flow": null,
      "grid_area": null,
      "grid_auto_columns": null,
      "grid_auto_flow": null,
      "grid_auto_rows": null,
      "grid_column": null,
      "grid_gap": null,
      "grid_row": null,
      "grid_template_areas": null,
      "grid_template_columns": null,
      "grid_template_rows": null,
      "height": null,
      "justify_content": null,
      "justify_items": null,
      "left": null,
      "margin": null,
      "max_height": null,
      "max_width": null,
      "min_height": null,
      "min_width": null,
      "object_fit": null,
      "object_position": null,
      "order": null,
      "overflow": null,
      "overflow_x": null,
      "overflow_y": null,
      "padding": null,
      "right": null,
      "top": null,
      "visibility": null,
      "width": null
     }
    },
    "dacd00a4830b4d55b90d6de6a3a24666": {
     "model_module": "@jupyter-widgets/controls",
     "model_name": "HBoxModel",
     "state": {
      "_dom_classes": [],
      "_model_module": "@jupyter-widgets/controls",
      "_model_module_version": "1.5.0",
      "_model_name": "HBoxModel",
      "_view_count": null,
      "_view_module": "@jupyter-widgets/controls",
      "_view_module_version": "1.5.0",
      "_view_name": "HBoxView",
      "box_style": "",
      "children": [
       "IPY_MODEL_c2cce59c6cfe418fa95c59b312bf67be",
       "IPY_MODEL_5c25f914485544ce8850a21c5e2c434f"
      ],
      "layout": "IPY_MODEL_3d243892135042a29b2070517b08ef8f"
     }
    },
    "e6f49cb143d9470bbbd3a67ce58d6809": {
     "model_module": "@jupyter-widgets/base",
     "model_name": "LayoutModel",
     "state": {
      "_model_module": "@jupyter-widgets/base",
      "_model_module_version": "1.2.0",
      "_model_name": "LayoutModel",
      "_view_count": null,
      "_view_module": "@jupyter-widgets/base",
      "_view_module_version": "1.2.0",
      "_view_name": "LayoutView",
      "align_content": null,
      "align_items": null,
      "align_self": null,
      "border": null,
      "bottom": null,
      "display": null,
      "flex": null,
      "flex_flow": null,
      "grid_area": null,
      "grid_auto_columns": null,
      "grid_auto_flow": null,
      "grid_auto_rows": null,
      "grid_column": null,
      "grid_gap": null,
      "grid_row": null,
      "grid_template_areas": null,
      "grid_template_columns": null,
      "grid_template_rows": null,
      "height": null,
      "justify_content": null,
      "justify_items": null,
      "left": null,
      "margin": null,
      "max_height": null,
      "max_width": null,
      "min_height": null,
      "min_width": null,
      "object_fit": null,
      "object_position": null,
      "order": null,
      "overflow": null,
      "overflow_x": null,
      "overflow_y": null,
      "padding": null,
      "right": null,
      "top": null,
      "visibility": null,
      "width": null
     }
    },
    "fe1eec383b144effb72ead9319fcb66e": {
     "model_module": "@jupyter-widgets/base",
     "model_name": "LayoutModel",
     "state": {
      "_model_module": "@jupyter-widgets/base",
      "_model_module_version": "1.2.0",
      "_model_name": "LayoutModel",
      "_view_count": null,
      "_view_module": "@jupyter-widgets/base",
      "_view_module_version": "1.2.0",
      "_view_name": "LayoutView",
      "align_content": null,
      "align_items": null,
      "align_self": null,
      "border": null,
      "bottom": null,
      "display": null,
      "flex": null,
      "flex_flow": null,
      "grid_area": null,
      "grid_auto_columns": null,
      "grid_auto_flow": null,
      "grid_auto_rows": null,
      "grid_column": null,
      "grid_gap": null,
      "grid_row": null,
      "grid_template_areas": null,
      "grid_template_columns": null,
      "grid_template_rows": null,
      "height": null,
      "justify_content": null,
      "justify_items": null,
      "left": null,
      "margin": null,
      "max_height": null,
      "max_width": null,
      "min_height": null,
      "min_width": null,
      "object_fit": null,
      "object_position": null,
      "order": null,
      "overflow": null,
      "overflow_x": null,
      "overflow_y": null,
      "padding": null,
      "right": null,
      "top": null,
      "visibility": null,
      "width": null
     }
    }
   }
  }
 },
 "nbformat": 4,
 "nbformat_minor": 4
}
